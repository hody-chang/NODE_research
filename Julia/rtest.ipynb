{
 "cells": [
  {
   "cell_type": "markdown",
   "metadata": {},
   "source": [
    "### <font style=\"background-color:DodgerBlue\" color=\"White\">Test On using larger r to predict smaller r</font>"
   ]
  },
  {
   "cell_type": "code",
   "execution_count": 3,
   "metadata": {},
   "outputs": [
    {
     "data": {
      "text/plain": [
       "Model_run (generic function with 1 method)"
      ]
     },
     "metadata": {},
     "output_type": "display_data"
    }
   ],
   "source": [
    "include(\"setup.jl\")"
   ]
  },
  {
   "cell_type": "code",
   "execution_count": 4,
   "metadata": {},
   "outputs": [],
   "source": [
    "N = 16\n",
    "w_r = zeros(5,N)\n",
    "b_r = zeros(5,N)\n",
    "times = Float64[]\n",
    "\n",
    "for i in 1:5\n",
    "    r = 10.0 ^ (-(i+2))\n",
    "    if i == 1\n",
    "        timed_result = @timed Model_run(r,rand(N),rand(N))\n",
    "        w_r[i,:], b_r[i,:] = timed_result[1]\n",
    "        push!(times, timed_result[2])\n",
    "    else\n",
    "        timed_result = @timed Model_run(r,w_r[i-1,:],b_r[i-1,:])\n",
    "        w_r[i,:], b_r[i,:] = timed_result[1]\n",
    "        push!(times, timed_result[2])\n",
    "    end\n",
    "end"
   ]
  },
  {
   "cell_type": "markdown",
   "metadata": {},
   "source": [
    "### Time to run the function from 1e-3 to 1e-7"
   ]
  },
  {
   "cell_type": "code",
   "execution_count": null,
   "metadata": {},
   "outputs": [],
   "source": [
    "for i in 1:5\n",
    "    println(\"Time needed for 1e\", 10.0 ^ (-(i+2)), \" : \",times, \"s\")\n",
    "end"
   ]
  },
  {
   "cell_type": "code",
   "execution_count": null,
   "metadata": {},
   "outputs": [],
   "source": [
    "using Plots"
   ]
  },
  {
   "cell_type": "code",
   "execution_count": null,
   "metadata": {},
   "outputs": [],
   "source": [
    "param_node = param()\n",
    "param_node.r = 10.0 ^ (-(7+2))\n",
    "theta_node = theta(w_r[5,:],b_r[5,:],1,1)\n",
    "h = 2/param_node.Q\n",
    "x = (-1 .+ (1:param_node.Q) .* h .- h / 2)'\n",
    "y_exact = x + (1 .-x.^2)./3\n",
    "plot(x', y_exact',label=\"exact\")\n",
    "fhat, z, dzn, dzw, dzb = forward(param_node,x,theta_node)\n",
    "plot!(x', fhat,label=\"approx\")\n",
    "title(\"Plot of function in 1e-7\")"
   ]
  },
  {
   "cell_type": "markdown",
   "metadata": {},
   "source": [
    "### Result of r vs w"
   ]
  },
  {
   "cell_type": "code",
   "execution_count": null,
   "metadata": {},
   "outputs": [],
   "source": [
    "N = 16\n",
    "\n",
    "plt = plot() \n",
    "for i in 1:5\n",
    "    plot!(1:N,w_r[i,:],label=\"r = 1e-$(i+2)\")\n",
    "end\n",
    "\n",
    "xlabel!(plt, \"N\")\n",
    "ylabel!(plt, \"w\")\n",
    "\n",
    "display(plt)\n",
    "\n",
    "#savefig(plt, \"figs/NvsW.png\")"
   ]
  },
  {
   "cell_type": "markdown",
   "metadata": {},
   "source": [
    "### Result of r vs b"
   ]
  },
  {
   "cell_type": "code",
   "execution_count": null,
   "metadata": {},
   "outputs": [],
   "source": [
    "N = 16\n",
    "\n",
    "plt = plot()\n",
    "for i in 1:5\n",
    "    plot!(1:N,b_r[i,:],label=\"r = 1e-$(i+2)\",legend=:top)\n",
    "end\n",
    "\n",
    "xlabel!(plt,\"N\")\n",
    "ylabel!(plt,\"b\")\n",
    "\n",
    "display(plt)\n",
    "\n",
    "#savefig(plt, \"figs/Nvsb.png\")"
   ]
  },
  {
   "cell_type": "markdown",
   "metadata": {},
   "source": [
    "### Just compare if start from random with small r"
   ]
  },
  {
   "cell_type": "code",
   "execution_count": null,
   "metadata": {},
   "outputs": [],
   "source": [
    "N = 16\n",
    "w_r = zeros(1,N)\n",
    "b_r = zeros(1,N)\n",
    "times = 0\n",
    "\n",
    "r = 10.0 ^(-7)\n",
    "timed_result = @timed Model_run(r,rand(N),rand(N))\n",
    "w_r, b_r = timed_result[1]\n"
   ]
  }
 ],
 "metadata": {
  "kernelspec": {
   "display_name": "Julia 1.10.0",
   "language": "julia",
   "name": "julia-1.10"
  },
  "language_info": {
   "file_extension": ".jl",
   "mimetype": "application/julia",
   "name": "julia",
   "version": "1.10.0"
  }
 },
 "nbformat": 4,
 "nbformat_minor": 2
}
