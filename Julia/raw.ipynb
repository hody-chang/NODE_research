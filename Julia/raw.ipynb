{
 "cells": [
  {
   "cell_type": "markdown",
   "metadata": {},
   "source": [
    "### <font style=\"background-color:DodgerBlue\" color=\"White\">Time start from random vector</font>"
   ]
  },
  {
   "cell_type": "code",
   "execution_count": 1,
   "metadata": {},
   "outputs": [
    {
     "data": {
      "text/plain": [
       "Model_run (generic function with 1 method)"
      ]
     },
     "metadata": {},
     "output_type": "display_data"
    }
   ],
   "source": [
    "include(\"setup.jl\")"
   ]
  },
  {
   "cell_type": "code",
   "execution_count": 2,
   "metadata": {},
   "outputs": [
    {
     "name": "stdout",
     "output_type": "stream",
     "text": [
      "Reg: 0.001 Resid = 8.799508452529952e-6 Loss = 0.007444119867079245"
     ]
    },
    {
     "name": "stdout",
     "output_type": "stream",
     "text": [
      "\n",
      "Time to train: 39.1485847"
     ]
    },
    {
     "name": "stdout",
     "output_type": "stream",
     "text": [
      "Reg: 0.0001 Resid = 8.44533615558826e-6 Loss = 0.0011293809879292871\n",
      "Time to train: 258.6229689"
     ]
    },
    {
     "name": "stdout",
     "output_type": "stream",
     "text": [
      "Reg: 1.0e-5 Resid = 9.4965263461408e-6 Loss = 0.00019364926445061158\n",
      "Time to train: "
     ]
    },
    {
     "name": "stdout",
     "output_type": "stream",
     "text": [
      "521.5865416Reg: 1.0e-6 Resid = 9.911847061657723e-6 Loss = 4.3845861602738304e-5\n",
      "Time to train: 862.6584211"
     ]
    },
    {
     "name": "stdout",
     "output_type": "stream",
     "text": [
      "Reg: 1.0e-7 Resid = 9.740129374505603e-6 Loss = 9.813494874238364e-5\n",
      "Time to train: 659.2388475"
     ]
    }
   ],
   "source": [
    "N = 31\n",
    "w_r = zeros(5,N)\n",
    "b_r = zeros(5,N)\n",
    "times_raw = Float64[]\n",
    "\n",
    "for i in 1:5\n",
    "    r = 10.0 ^ (-(i+2))\n",
    "    timed_result = @timed Model_run(N,r,rand(N),rand(N))\n",
    "    w_r[i,:], b_r[i,:] = timed_result[1]\n",
    "    push!(times_raw, timed_result[2])\n",
    "    print(\"Time to train: \", timed_result[2])\n",
    "end"
   ]
  }
 ],
 "metadata": {
  "kernelspec": {
   "display_name": "Julia 1.10.0",
   "language": "julia",
   "name": "julia-1.10"
  },
  "language_info": {
   "file_extension": ".jl",
   "mimetype": "application/julia",
   "name": "julia",
   "version": "1.10.0"
  }
 },
 "nbformat": 4,
 "nbformat_minor": 2
}
