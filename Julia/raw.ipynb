{
 "cells": [
  {
   "cell_type": "markdown",
   "metadata": {},
   "source": [
    "### <font style=\"background-color:DodgerBlue\" color=\"White\">Time start from random vector</font>"
   ]
  },
  {
   "cell_type": "code",
   "execution_count": 1,
   "metadata": {},
   "outputs": [
    {
     "data": {
      "text/plain": [
       "Model_run (generic function with 1 method)"
      ]
     },
     "metadata": {},
     "output_type": "display_data"
    }
   ],
   "source": [
    "include(\"setup.jl\")"
   ]
  },
  {
   "cell_type": "code",
   "execution_count": 2,
   "metadata": {},
   "outputs": [
    {
     "name": "stdout",
     "output_type": "stream",
     "text": [
      "Resid = 4.257041500709468e-6"
     ]
    },
    {
     "ename": "UndefVarError",
     "evalue": "UndefVarError: `w_r_32` not defined",
     "output_type": "error",
     "traceback": [
      "UndefVarError: `w_r_32` not defined\n",
      "\n",
      "Stacktrace:\n",
      " [1] top-level scope\n",
      "   @ c:\\Users\\aresm\\Documents\\GitHub\\NODE_research\\Julia\\raw.ipynb:9"
     ]
    }
   ],
   "source": [
    "N = 31\n",
    "w_r = zeros(5,N)\n",
    "b_r = zeros(5,N)\n",
    "times_raw = Float64[]\n",
    "\n",
    "for i in 1:5\n",
    "    r = 10.0 ^ (-(i+2))\n",
    "    timed_result = @timed Model_run(N,r,rand(N),rand(N))\n",
    "    w_r[i,:], b_r[i,:] = timed_result[1]\n",
    "    push!(times_raw, timed_result[2])\n",
    "end"
   ]
  },
  {
   "cell_type": "code",
   "execution_count": null,
   "metadata": {},
   "outputs": [],
   "source": [
    "for i in 1:5\n",
    "    println(\"Time needed for 1e\", 10.0 ^ (-(i+2)), \" : \",times, \"s\")\n",
    "end"
   ]
  }
 ],
 "metadata": {
  "kernelspec": {
   "display_name": "Julia 1.10.0",
   "language": "julia",
   "name": "julia-1.10"
  },
  "language_info": {
   "file_extension": ".jl",
   "mimetype": "application/julia",
   "name": "julia",
   "version": "1.10.0"
  }
 },
 "nbformat": 4,
 "nbformat_minor": 2
}
