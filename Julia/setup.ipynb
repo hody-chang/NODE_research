{
 "cells": [
  {
   "cell_type": "code",
   "execution_count": null,
   "metadata": {},
   "outputs": [],
   "source": [
    "function grad(param,x,y_exact,theta)\n",
    "    N = param.N\n",
    "    Q = param.Q\n",
    "    h = 2/Q\n",
    "    k = 1/N\n",
    "    r = param.r\n",
    "\n",
    "    fhat, z, dzn, dzw, dzb = forward(param,x,theta)\n",
    "\n",
    "    a = theta.a\n",
    "    c = theta.c\n",
    "    w = theta.w\n",
    "    b = theta.b\n",
    "\n",
    "    Pn = zeros(Q,N)\n",
    "    Pn[:,N] = dzn[:,N]\n",
    "    for j = N-1:-1:1\n",
    "        Pn[:,j] = Pn[:,j+1] .* dzn[:,j]\n",
    "    end\n",
    "\n",
    "    L = 0\n",
    "    y_diff = y_exact[1:Q] - fhat[1:Q]\n",
    "\n",
    "    L_main = h*sum(y_diff.^2)\n",
    "\n",
    "    L = L + r*k*sum(w.^2+b.^2)\n",
    "\n",
    "    L = L + r/k*sum((w[2:N]-w[1:N-1]).^2 + (b[2:N]-b[1:N-1]).^2)\n",
    "\n",
    "    dLda = 0\n",
    "    dLdc = 0\n",
    "    dLdw = zeros(N)\n",
    "    dLdb = zeros(N)\n",
    "\n",
    "    \n",
    "\n",
    "    # derivative L with a\n",
    "    dLda = 2 * a * r - 2 * c * h * sum((y_diff.* Pn[:,1] .* x))\n",
    "\n",
    "    # derivative L with c\n",
    "    dLdc = 2 * c * r - 2 * h * sum(y_diff .* z[:,N+1])\n",
    "\n",
    "    # derivative L with w\n",
    "    dLdw[1] = 2*r/k*(w[1]-w[2])+ 2*r*k*w[1] - 2*c*h*sum(y_diff.*Pn[:,2].*dzw[:,1])\n",
    "    dLdw[N] = 2*r/k*(w[N]-w[N-1])+ 2*r*k*w[N] - 2*c*h*sum(y_diff.*dzw[:,N])\n",
    "    for j=2:N-1\n",
    "        dLdw[j] = 2*r/k*(2*w[j]-w[j-1]-w[j+1])+ 2*r*k*w[j] - 2*c*h*sum(y_diff.*Pn[:,j+1].*dzw[:,j])\n",
    "    end\n",
    "\n",
    "    # derivative L with b\n",
    "    dLdb[1] = 2*r/k*(b[1]-b[2])+ 2*r*k*b[1] - 2*c*h*sum(y_diff.*Pn[:,2].*dzb[:,1])\n",
    "    dLdb[N] = 2*r/k*(b[N]-b[N-1])+ 2*r*k*b[N] - 2*c*h*sum(y_diff.*dzb[:,N])\n",
    "    for j=2:N-1\n",
    "        dLdb[j] = 2*r/k*(2*b[j]-b[j-1]-b[j+1])+ 2*r*k*b[j] - 2*c*h*sum(y_diff.*Pn[:,j+1].*dzb[:,j])\n",
    "    end \n",
    "\n",
    "    return L, L_main, dLda, dLdc, dLdw, dLdb\n",
    "\n",
    "end"
   ]
  },
  {
   "cell_type": "code",
   "execution_count": 3,
   "metadata": {},
   "outputs": [
    {
     "data": {
      "text/plain": [
       "forward (generic function with 1 method)"
      ]
     },
     "metadata": {},
     "output_type": "display_data"
    }
   ],
   "source": [
    "function forward(param,x,theta)\n",
    "\n",
    "    a = theta.a\n",
    "    c = theta.c\n",
    "    w = theta.w\n",
    "    b = theta.b\n",
    "\n",
    "    N = param.N\n",
    "    Q = param.Q\n",
    "    h = 2/Q\n",
    "    k = 1/N\n",
    "\n",
    "    z = zeros(Q,N+1)\n",
    "    dzn = zeros(Q,N);\n",
    "    dzw = zeros(Q,N);\n",
    "    dzb = zeros(Q,N);\n",
    "\n",
    "    z[:,1] = a*x;\n",
    "    for i in 1:N\n",
    "        z[:,i+1] = z[:,i] + k * tanh.(w[i] * z[:,i] .+ b[i])\n",
    "        dzn[:,i] = 1 .+ k * sech.(w[i] * z[:,i] .+ b[i]).^2 * w[i]\n",
    "        dzw[:,i] = k * sech.(w[i] * z[:,i] .+ b[i]).^2 .* z[:,i]\n",
    "        dzb[:,i] = k * sech.(w[i] * z[:,i] .+ b[i]).^2\n",
    "    end\n",
    "\n",
    "    fhat = c*z[:,N+1]\n",
    "    \n",
    "    return fhat, z, dzn, dzw, dzb\n",
    "end"
   ]
  },
  {
   "cell_type": "code",
   "execution_count": 4,
   "metadata": {},
   "outputs": [
    {
     "data": {
      "text/plain": [
       "param"
      ]
     },
     "metadata": {},
     "output_type": "display_data"
    }
   ],
   "source": [
    "@kwdef mutable struct param\n",
    "    N::Integer = 16\n",
    "    Q::Integer = 64\n",
    "    r::Float64 = 0\n",
    "    tol::Float64 = 1e-5\n",
    "    dt::Float64 = 1e-1\n",
    "    Nsteep::Integer = 10000\n",
    "end"
   ]
  },
  {
   "cell_type": "code",
   "execution_count": 5,
   "metadata": {},
   "outputs": [
    {
     "data": {
      "text/plain": [
       "theta"
      ]
     },
     "metadata": {},
     "output_type": "display_data"
    }
   ],
   "source": [
    "@kwdef mutable struct theta\n",
    "    w::Vector{Float64}\n",
    "    b::Vector{Float64}\n",
    "    a::Float64\n",
    "    c::Float64\n",
    "end"
   ]
  },
  {
   "cell_type": "code",
   "execution_count": 6,
   "metadata": {},
   "outputs": [
    {
     "data": {
      "text/plain": [
       "Model_run (generic function with 1 method)"
      ]
     },
     "metadata": {},
     "output_type": "display_data"
    }
   ],
   "source": [
    "function Model_run(r,w_initial,b_initial)\n",
    "    param_node = param()\n",
    "    param_node.r = r\n",
    "    theta_node = theta(w_initial,b_initial,1,1)\n",
    "    h = 2/param_node.Q\n",
    "    k = 1/param_node.N\n",
    "    x = (-1 .+ (1:param_node.Q) .* h .- h / 2)'\n",
    "    y_exact = x + (1 .- x.^2)./3\n",
    "    L, L_main, dLda, dLdc, dLdw, dLdb = grad(param_node,x,y_exact,theta_node)\n",
    "    tol = param_node.tol\n",
    "    resid = 2*tol\n",
    "    while resid > tol\n",
    "        for j=1:param_node.Nsteep\n",
    "            L, L_main, dLda, dLdc, dLdw, dLdb = grad(param_node,x,y_exact,theta_node)\n",
    "\n",
    "            theta_node.w = theta_node.w - param_node.dt * dLdw\n",
    "            theta_node.b = theta_node.b - param_node.dt * dLdb\n",
    "        end\n",
    "        resid = maximum(abs.([dLdw; dLdb]))\n",
    "    end\n",
    "    print(\"Resid = $resid\")\n",
    "    return theta_node.w, theta_node.b\n",
    "end"
   ]
  }
 ],
 "metadata": {
  "kernelspec": {
   "display_name": "Julia 1.10.0",
   "language": "julia",
   "name": "julia-1.10"
  },
  "language_info": {
   "file_extension": ".jl",
   "mimetype": "application/julia",
   "name": "julia",
   "version": "1.10.0"
  }
 },
 "nbformat": 4,
 "nbformat_minor": 2
}
