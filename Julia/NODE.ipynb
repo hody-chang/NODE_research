{
 "cells": [
  {
   "cell_type": "code",
   "execution_count": 51,
   "metadata": {},
   "outputs": [
    {
     "data": {
      "text/plain": [
       "grad (generic function with 1 method)"
      ]
     },
     "metadata": {},
     "output_type": "display_data"
    }
   ],
   "source": [
    "function grad(param,x,y_exact,theta)\n",
    "    N = param.N\n",
    "    Q = param.Q\n",
    "    h = 2/Q\n",
    "    k = 1/N\n",
    "    r = param.r\n",
    "\n",
    "    fhat, z, dzn, dzw, dzb, Pn = forward(param,x,theta)\n",
    "\n",
    "\n",
    "end"
   ]
  },
  {
   "cell_type": "code",
   "execution_count": 52,
   "metadata": {},
   "outputs": [
    {
     "data": {
      "text/plain": [
       "forward (generic function with 1 method)"
      ]
     },
     "metadata": {},
     "output_type": "display_data"
    }
   ],
   "source": [
    "function forward(param,x,theta)\n",
    "\n",
    "    a = theta.a\n",
    "    c = theta.c\n",
    "    w = theta.w\n",
    "    b = theta.b\n",
    "\n",
    "    N = param.N\n",
    "    Q = param.Q\n",
    "    h = 2/Q\n",
    "    k = 1/N\n",
    "\n",
    "    z = zeros(Q,N+1)\n",
    "    dzn = zeros(Q,N);\n",
    "    dzw = zeros(Q,N);\n",
    "    dzb = zeros(Q,N);\n",
    "\n",
    "    z[:,1] = a*x;\n",
    "    for i in 1:N\n",
    "        z[:,i+1] = z[:,i] .+ k * tanh.(w[i] .* z[:,i] .+ b[i])\n",
    "        dzn[:,i] = 1 .+ k * sech.(w[i] .* z[:,i] .+ b[i]).^2 * w[i]\n",
    "        dzw[:,i] = k * sech.(w[i] .* z[:,i] .+ b[i]).^2 .* z[:,i]\n",
    "        dzb[:,i] = k * sech.(w[i] .* z[:,i] .+ b[i]).^2\n",
    "    end\n",
    "\n",
    "    fhat = c*z[:,N+1];\n",
    "\n",
    "    Pn = zeros(Q,N)\n",
    "    Pn[:,N] = dzn[:,N]\n",
    "    for j = N-1:-1:1\n",
    "        Pn[:,j] = Pn[:,j+1] .* dzn[:,j]\n",
    "    end\n",
    "\n",
    "    return fhat, z, dzn, dzw, dzb, Pn\n",
    "end"
   ]
  },
  {
   "cell_type": "code",
   "execution_count": 53,
   "metadata": {},
   "outputs": [
    {
     "data": {
      "text/plain": [
       "param"
      ]
     },
     "metadata": {},
     "output_type": "display_data"
    }
   ],
   "source": [
    "@kwdef mutable struct param\n",
    "    N::Integer = 4\n",
    "    Q::Integer = 32\n",
    "    r::Float64 = 1e-3\n",
    "    tol::Float64 = 1e-5\n",
    "    dt::Float64 = 1e-1\n",
    "    Nsteep::Integer = 10000\n",
    "end"
   ]
  },
  {
   "cell_type": "code",
   "execution_count": 54,
   "metadata": {},
   "outputs": [],
   "source": [
    "mutable struct theta\n",
    "    w::Vector{Float64}\n",
    "    b::Vector{Float64}\n",
    "    a::Float64\n",
    "    c::Float64\n",
    "end"
   ]
  },
  {
   "cell_type": "code",
   "execution_count": 55,
   "metadata": {},
   "outputs": [
    {
     "data": {
      "text/plain": [
       "theta([0.0, 0.0, 0.0, 0.0], [0.0, 0.0, 0.0, 0.0], 1.0, 1.0)"
      ]
     },
     "metadata": {},
     "output_type": "display_data"
    }
   ],
   "source": [
    "param_node = param()\n",
    "theta_node = theta(zeros(param_node.N),zeros(param_node.N),1,1)"
   ]
  },
  {
   "cell_type": "code",
   "execution_count": 56,
   "metadata": {},
   "outputs": [
    {
     "data": {
      "text/plain": [
       "1×32 adjoint(::StepRangeLen{Float64, Base.TwicePrecision{Float64}, Base.TwicePrecision{Float64}, Int64}) with eltype Float64:\n",
       " -0.96875  -0.90625  -0.84375  …  0.78125  0.84375  0.90625  0.96875"
      ]
     },
     "metadata": {},
     "output_type": "display_data"
    }
   ],
   "source": [
    "h = 2/param_node.Q\n",
    "k = 1/param_node.N\n",
    "x = (-1 .+ (1:param_node.Q) .* h .- h / 2)'"
   ]
  },
  {
   "cell_type": "code",
   "execution_count": 57,
   "metadata": {},
   "outputs": [
    {
     "data": {
      "text/plain": [
       "([-0.96875, -0.90625, -0.84375, -0.78125, -0.71875, -0.65625, -0.59375, -0.53125, -0.46875, -0.40625  …  0.40625, 0.46875, 0.53125, 0.59375, 0.65625, 0.71875, 0.78125, 0.84375, 0.90625, 0.96875], [-0.96875 -0.96875 … -0.96875 -0.96875; -0.90625 -0.90625 … -0.90625 -0.90625; … ; 0.90625 0.90625 … 0.90625 0.90625; 0.96875 0.96875 … 0.96875 0.96875], [1.0 1.0 1.0 1.0; 1.0 1.0 1.0 1.0; … ; 1.0 1.0 1.0 1.0; 1.0 1.0 1.0 1.0], [-0.2421875 -0.2421875 -0.2421875 -0.2421875; -0.2265625 -0.2265625 -0.2265625 -0.2265625; … ; 0.2265625 0.2265625 0.2265625 0.2265625; 0.2421875 0.2421875 0.2421875 0.2421875], [0.25 0.25 0.25 0.25; 0.25 0.25 0.25 0.25; … ; 0.25 0.25 0.25 0.25; 0.25 0.25 0.25 0.25], [1.0 1.0 1.0 1.0; 1.0 1.0 1.0 1.0; … ; 1.0 1.0 1.0 1.0; 1.0 1.0 1.0 1.0])"
      ]
     },
     "metadata": {},
     "output_type": "display_data"
    }
   ],
   "source": [
    "forward(param_node,x,theta_node)"
   ]
  }
 ],
 "metadata": {
  "kernelspec": {
   "display_name": "Julia 1.10.0",
   "language": "julia",
   "name": "julia-1.10"
  },
  "language_info": {
   "file_extension": ".jl",
   "mimetype": "application/julia",
   "name": "julia",
   "version": "1.10.0"
  }
 },
 "nbformat": 4,
 "nbformat_minor": 2
}
