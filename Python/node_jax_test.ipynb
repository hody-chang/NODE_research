{
  "nbformat": 4,
  "nbformat_minor": 0,
  "metadata": {
    "colab": {
      "provenance": [],
      "authorship_tag": "ABX9TyOLkAV83ICj0qUJp5YwioRv"
    },
    "kernelspec": {
      "name": "python3",
      "display_name": "Python 3"
    },
    "language_info": {
      "name": "python"
    }
  },
  "cells": [
    {
      "cell_type": "code",
      "execution_count": null,
      "metadata": {
        "id": "mpUkwnZo-mPI"
      },
      "outputs": [],
      "source": [
        "import numpy as np\n",
        "import matplotlib\n",
        "import matplotlib.pyplot as plt"
      ]
    },
    {
      "cell_type": "code",
      "source": [
        "class NODE:\n",
        "\n",
        "  def __init__(self, key):\n",
        "    self.N = 8 # number of tau steps\n",
        "    self.k = 1 / self.N\n",
        "\n",
        "    self.Ntot = 2*self.N + 2 # total number of ML parameters\n",
        "    # parameter order: a,c, vector b, vector w\n",
        "    self.r = 1e-6 # regularization parameter\n",
        "\n",
        "    self.Q = 32 # number of quadrature points, midpoint rule\n",
        "    self.h = 2 / self.Q\n",
        "\n",
        "    self.tol = 1e-5 # residual tolerance for the SD iterations\n",
        "    self.dt = 0.5 # steepest descent step\n",
        "    self.Nsteep = 10000 # number of SD iterations between plots\n",
        "\n",
        "    self.a = 1\n",
        "    self.w = np.zeros(self.N)\n",
        "    self.b = np.zeros(self.N)\n",
        "    self.c = 1\n",
        "\n",
        "  def forward(self,x):\n",
        "    z = np.zeros((self.Q,self.N+1))\n",
        "    dzn = np.zeros((self.Q,self.N))\n",
        "    dzw = np.zeros((self.Q,self.N))\n",
        "    dzb = np.zeros((self.Q,self.N))\n",
        "\n",
        "    z[:,0] = self.a * x\n",
        "    for i in range(self.N):\n",
        "      z[:,i+1] = z[:,i] + self.k * np.tanh(self.w[i] * z[:,i] + self.b[i])\n",
        "      dzn[:,i] = 1 + self.k / (np.cosh(self.w[i]*z[:,i]+ self.b[i]) ** 2) * self.w[i]\n",
        "      dzw[:,i] = self.k / (np.cosh(self.w[i] * z[:,i] + self.b[i]) ** 2) * z[:,i]\n",
        "      dzb[:,i] = self.k / (np.cosh(self.w[i]*z[:,i]+ self.b[i]) ** 2)\n",
        "\n",
        "    return self.c * z[:,self.N], z , dzn, dzw, dzb\n",
        "\n",
        "  def loss(self,x, y_exact):\n",
        "    y_hat, _, _, _, _ = self.forward(x)\n",
        "\n",
        "    L = self.h * np.sum((y_exact - y_hat) ** 2)\n",
        "\n",
        "    loss_weight = np.sum(self.w ** 2 + self.b ** 2)\n",
        "    loss_weight_diff = np.sum((self.w[1:]-self.w[:self.N-1]) ** 2 + (self.b[1:]-self.b[:self.N-1]) ** 2)\n",
        "\n",
        "    return L , L + self.r * self.k * loss_weight + self.r / self.k * loss_weight_diff\n",
        "\n",
        "\n",
        "  def grad(self,x,y_exact):\n",
        "    y_hat, z , dzn, dzw, dzb = self.forward(x)\n",
        "\n",
        "    Q = self.Q\n",
        "    N = self.N\n",
        "    r = self.r\n",
        "    k = self.k\n",
        "    h = self.h\n",
        "    a = self.a\n",
        "    c = self.c\n",
        "    w = self.w\n",
        "    b = self.b\n",
        "\n",
        "    Pn = np.zeros((Q,N))\n",
        "    Pn[:,N-1] = dzn[:,N-1]\n",
        "    for j in range(N-2, 0, -1):\n",
        "      Pn[:,j] = Pn[:,j+1] * dzn[:,j]\n",
        "\n",
        "    y_diff = y_exact - y_hat\n",
        "\n",
        "    da = 0\n",
        "    dc = 0\n",
        "    dw = np.zeros(N)\n",
        "    db = np.zeros(N)\n",
        "\n",
        "    da = 2 * a * r - 2 * c * h * np.sum(y_diff * Pn[:,0] * x)\n",
        "    dc = 2 * c * r - 2 * h * np.sum(y_diff *z[:,N])\n",
        "\n",
        "    dw[0] = 2 * r / k * (w[0]-w[1]) + 2 * r * k * w[0] - 2 * c * h * np.sum(y_diff * Pn[:,1] * dzw[:,0])\n",
        "    dw[-1] = 2 * r / k * (w[-1] - w[-2]) + 2 * r * k * w[-1] - 2 * c * h * np.sum(y_diff * dzw[:, -1])\n",
        "    for i in range(1,N-1,1):\n",
        "      dw[i] = 2 * r / k * (2 * w[i] - w[i-1] - w[i+1]) + 2 * r * k * w[i] - 2 * c * h * np.sum(y_diff * Pn[:,i+1] * dzw[:,i])\n",
        "\n",
        "    db[0] = 2 * r / k * (b[0]-b[1])+ 2 * r * k * b[0] - 2 * c * h * np.sum(y_diff * Pn[:,1] * dzb[:,0])\n",
        "    db[-1] = 2 * r / k * (b[-1] - b[-2]) + 2 * r * k * b[-1] - 2 * c * h * np.sum(y_diff * dzb[:,-1]);\n",
        "    for i in range(1,N-1,1):\n",
        "      db[i] = 2 * r / k * (2 * b[i] - b[i-1] - b[i+1]) + 2 * r * k * b[i] - 2 * c * h * np.sum(y_diff * Pn[:, i+1] * dzb[:,i])\n",
        "\n",
        "    return da, dc, dw, db\n",
        "\n",
        "  def update(self,x,y_exact):\n",
        "      da, dc, dw, db = self.grad(x,y_exact)\n",
        "      self.a -= self.dt * da\n",
        "      self.c -= self.dt * dc\n",
        "      self.w -= self.dt * dw\n",
        "      self.b -= self.dt * db\n",
        "      return np.concatenate((dw, db), axis=0)"
      ],
      "metadata": {
        "id": "AmKZpWnLYd-8"
      },
      "execution_count": null,
      "outputs": []
    },
    {
      "cell_type": "code",
      "source": [
        "model = NODE(0)\n",
        "x = np.linspace(0, 1, 32)\n",
        "y_exact = x + (1-x**2)/3"
      ],
      "metadata": {
        "id": "Mg8OsSJwX_rm"
      },
      "execution_count": null,
      "outputs": []
    },
    {
      "cell_type": "code",
      "source": [
        "resid = 2 * model.tol\n",
        "while resid > model.tol:\n",
        "  for i in range(model.Nsteep):\n",
        "    GL = model.update(x,y_exact)\n",
        "  resid = np.max(np.abs(GL))\n",
        "  print(f\"Resid: {resid}\")"
      ],
      "metadata": {
        "id": "iWxn9rjlm1_K",
        "colab": {
          "base_uri": "https://localhost:8080/"
        },
        "outputId": "ba5bc922-295c-4ed7-9581-434bcff506df"
      },
      "execution_count": null,
      "outputs": []
    },
    {
      "cell_type": "code",
      "source": [
        "y_hat, _, _, _, _ = model.forward(x)\n",
        "plt.plot(x, y_hat, label = \"predict\")\n",
        "plt.plot(x, y_exact, label = \"exact\")\n",
        "plt.legend()"
      ],
      "metadata": {
        "id": "C0NNVCgp1mko"
      },
      "execution_count": null,
      "outputs": []
    },
  ]
}
